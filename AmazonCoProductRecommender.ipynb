{
 "cells": [
  {
   "cell_type": "markdown",
   "id": "a443d2d1",
   "metadata": {},
   "source": [
    "# Step 1: Data Preprocessing"
   ]
  },
  {
   "cell_type": "code",
   "execution_count": 1,
   "id": "0d2a89b6",
   "metadata": {},
   "outputs": [],
   "source": [
    "# import packages\n",
    "\n",
    "# Pre-processing\n",
    "import glob\n",
    "import random\n",
    "import re\n",
    "import nltk\n",
    "# nltk.download('stopwords')\n",
    "# !pip3 install stemming\n",
    "from stemming.porter2 import stem\n",
    "from nltk.corpus import stopwords\n",
    "import string\n",
    "import pandas as pd\n",
    "import numpy as np\n"
   ]
  },
  {
   "cell_type": "code",
   "execution_count": 2,
   "id": "70a5a97b",
   "metadata": {},
   "outputs": [],
   "source": [
    "filepath = glob.glob(\"amazon-meta.txt\")\n",
    "fil = filepath[0]\n",
    "text = open(fil,'r',encoding='utf-8',errors='ignore')\n"
   ]
  },
  {
   "cell_type": "code",
   "execution_count": 3,
   "id": "c3697707",
   "metadata": {},
   "outputs": [],
   "source": [
    "amazon = {}\n",
    "# Declaring the tuple of various feature values\n",
    "(Id, ASIN, title, categories, group, connections, salesrank, tot_reviews, avg_rating, degree_centrality, clustering_coeff) = (\"\",\"\",\"\",\"\",\"\",\"\", 0, 0, 0.0, 0, 0.0)\n",
    "\n",
    "for line in text:\n",
    "    line = line.strip()\n",
    "    # Strip ID\n",
    "    if(line.startswith(\"Id\")):\n",
    "        Id = line[3:].strip()\n",
    "    # Strip ASIN, which is the node\n",
    "    elif(line.startswith(\"ASIN\")):\n",
    "        ASIN = line[5:].strip()\n",
    "    # Strip Title\n",
    "    elif(line.startswith(\"title\")):\n",
    "        title = line[6:].strip()\n",
    "        title = ' '.join(title.split())\n",
    "    # Strip Group\n",
    "    elif(line.startswith(\"group\")):\n",
    "        group = line[6:].strip()\n",
    "    # Strip sales rank\n",
    "    elif(line.startswith(\"salesrank\")):\n",
    "        salesrank = line[10:]\n",
    "    # Strip similar, which are the connections\n",
    "    elif(line.startswith(\"similar\")):\n",
    "        a = line.split()\n",
    "        connections = ' '.join([i for i in a[2:]])\n",
    "    # Strip categories\n",
    "    elif(line.startswith(\"categories\")):\n",
    "        b = line.split()\n",
    "        # Converted to lowercase\n",
    "        categories = ' '.join((text.readline()).lower() for i in range(int(b[1].strip())))\n",
    "        # Remove punctuations\n",
    "        categories = re.compile('[%s]' % re.escape(string.digits + string.punctuation)).sub(' ', categories)\n",
    "        # Remove stopwords\n",
    "        categories = ' '.join(set(categories.split()) - set(stopwords.words('english')))\n",
    "        # Concatenate the words\n",
    "        categories = ' '.join(stem(word) for word in categories.split())\n",
    "    # Count the reviews, and average rating\n",
    "    elif(line.startswith(\"reviews\")):\n",
    "        c = line.split()\n",
    "        tot_reviews = c[2].strip()\n",
    "        avg_rating = c[7].strip()\n",
    "    # Handling the exception for cases where instances are missing\n",
    "    elif(line==\"\"):\n",
    "        try:\n",
    "            exception = {}\n",
    "            if(ASIN!=\"\"):\n",
    "                amazon[ASIN] = exception\n",
    "            exception['Id'] = Id\n",
    "            exception['ASIN'] = ASIN\n",
    "            exception['title'] = title\n",
    "            exception['group'] = group\n",
    "            exception['categories'] = ' '.join(set(categories.split()))\n",
    "            exception['connections'] = connections\n",
    "            exception['salesrank'] = int(salesrank)\n",
    "            exception['tot_reviews'] = int(tot_reviews)\n",
    "            exception['avg_rating'] = float(avg_rating)\n",
    "            exception['degree_centrality'] = degree_centrality\n",
    "            exception['clustering_coeff'] = clustering_coeff\n",
    "        except NameError:\n",
    "            continue\n",
    "        (Id, ASIN, title, categories, group, connections, salesrank, tot_reviews, avg_rating, degree_centrality, clustering_coeff) = (\"\",\"\",\"\",\"\",\"\",\"\", 0, 0, 0.0, 0, 0.0)\n",
    "text.close()\n",
    "\n",
    "\n"
   ]
  },
  {
   "cell_type": "code",
   "execution_count": 4,
   "id": "2c94c98b",
   "metadata": {},
   "outputs": [
    {
     "data": {
      "text/html": [
       "<div>\n",
       "<style scoped>\n",
       "    .dataframe tbody tr th:only-of-type {\n",
       "        vertical-align: middle;\n",
       "    }\n",
       "\n",
       "    .dataframe tbody tr th {\n",
       "        vertical-align: top;\n",
       "    }\n",
       "\n",
       "    .dataframe thead th {\n",
       "        text-align: right;\n",
       "    }\n",
       "</style>\n",
       "<table border=\"1\" class=\"dataframe\">\n",
       "  <thead>\n",
       "    <tr style=\"text-align: right;\">\n",
       "      <th></th>\n",
       "      <th>Id</th>\n",
       "      <th>ASIN</th>\n",
       "      <th>title</th>\n",
       "      <th>group</th>\n",
       "      <th>categories</th>\n",
       "      <th>connections</th>\n",
       "      <th>salesrank</th>\n",
       "      <th>tot_reviews</th>\n",
       "      <th>avg_rating</th>\n",
       "      <th>degree_centrality</th>\n",
       "      <th>clustering_coeff</th>\n",
       "      <th>co_product_count</th>\n",
       "    </tr>\n",
       "  </thead>\n",
       "  <tbody>\n",
       "    <tr>\n",
       "      <th>0771044445</th>\n",
       "      <td>0</td>\n",
       "      <td>0771044445</td>\n",
       "      <td></td>\n",
       "      <td></td>\n",
       "      <td></td>\n",
       "      <td></td>\n",
       "      <td>0</td>\n",
       "      <td>0</td>\n",
       "      <td>0.0</td>\n",
       "      <td>0</td>\n",
       "      <td>0.0</td>\n",
       "      <td>0</td>\n",
       "    </tr>\n",
       "    <tr>\n",
       "      <th>0827229534</th>\n",
       "      <td>1</td>\n",
       "      <td>0827229534</td>\n",
       "      <td>Patterns of Preaching: A Sermon Sampler</td>\n",
       "      <td>Book</td>\n",
       "      <td>religion spiritu clergi sermon christian preac...</td>\n",
       "      <td>0804215715 156101074X 0687023955 0687074231 08...</td>\n",
       "      <td>396585</td>\n",
       "      <td>2</td>\n",
       "      <td>5.0</td>\n",
       "      <td>0</td>\n",
       "      <td>0.0</td>\n",
       "      <td>5</td>\n",
       "    </tr>\n",
       "    <tr>\n",
       "      <th>0738700797</th>\n",
       "      <td>2</td>\n",
       "      <td>0738700797</td>\n",
       "      <td>Candlemas: Feast of Flames</td>\n",
       "      <td>Book</td>\n",
       "      <td>witchcraft wicca religion base spiritu earth s...</td>\n",
       "      <td>0738700827 1567184960 1567182836 0738700525 07...</td>\n",
       "      <td>168596</td>\n",
       "      <td>12</td>\n",
       "      <td>4.5</td>\n",
       "      <td>0</td>\n",
       "      <td>0.0</td>\n",
       "      <td>5</td>\n",
       "    </tr>\n",
       "    <tr>\n",
       "      <th>0486287785</th>\n",
       "      <td>3</td>\n",
       "      <td>0486287785</td>\n",
       "      <td>World War II Allied Fighter Planes Trading Cards</td>\n",
       "      <td>Book</td>\n",
       "      <td>garden hobbi general home subject craft book</td>\n",
       "      <td></td>\n",
       "      <td>1270652</td>\n",
       "      <td>1</td>\n",
       "      <td>5.0</td>\n",
       "      <td>0</td>\n",
       "      <td>0.0</td>\n",
       "      <td>0</td>\n",
       "    </tr>\n",
       "    <tr>\n",
       "      <th>0842328327</th>\n",
       "      <td>4</td>\n",
       "      <td>0842328327</td>\n",
       "      <td>Life Application Bible Commentary: 1 and 2 Tim...</td>\n",
       "      <td>Book</td>\n",
       "      <td>commentari refer religion discipleship applic ...</td>\n",
       "      <td>0842328130 0842330313 0842328610 0842328572</td>\n",
       "      <td>631289</td>\n",
       "      <td>1</td>\n",
       "      <td>4.0</td>\n",
       "      <td>0</td>\n",
       "      <td>0.0</td>\n",
       "      <td>4</td>\n",
       "    </tr>\n",
       "    <tr>\n",
       "      <th>...</th>\n",
       "      <td>...</td>\n",
       "      <td>...</td>\n",
       "      <td>...</td>\n",
       "      <td>...</td>\n",
       "      <td>...</td>\n",
       "      <td>...</td>\n",
       "      <td>...</td>\n",
       "      <td>...</td>\n",
       "      <td>...</td>\n",
       "      <td>...</td>\n",
       "      <td>...</td>\n",
       "      <td>...</td>\n",
       "    </tr>\n",
       "    <tr>\n",
       "      <th>B000059TOC</th>\n",
       "      <td>548547</td>\n",
       "      <td>B000059TOC</td>\n",
       "      <td>The Drifter</td>\n",
       "      <td>DVD</td>\n",
       "      <td>store actor amazon deal genr ann timothi horro...</td>\n",
       "      <td>630366704X</td>\n",
       "      <td>0</td>\n",
       "      <td>1</td>\n",
       "      <td>5.0</td>\n",
       "      <td>0</td>\n",
       "      <td>0.0</td>\n",
       "      <td>1</td>\n",
       "    </tr>\n",
       "    <tr>\n",
       "      <th>B00006JBIX</th>\n",
       "      <td>548548</td>\n",
       "      <td>B00006JBIX</td>\n",
       "      <td>The House Of Morecock</td>\n",
       "      <td>DVD</td>\n",
       "      <td>featur art store titl specialti intern distrib...</td>\n",
       "      <td>B00004WZQN</td>\n",
       "      <td>0</td>\n",
       "      <td>8</td>\n",
       "      <td>3.0</td>\n",
       "      <td>0</td>\n",
       "      <td>0.0</td>\n",
       "      <td>1</td>\n",
       "    </tr>\n",
       "    <tr>\n",
       "      <th>0879736836</th>\n",
       "      <td>548549</td>\n",
       "      <td>0879736836</td>\n",
       "      <td>Catholic Bioethics and the Gift of Human Life</td>\n",
       "      <td>Book</td>\n",
       "      <td>scienc philosophi religion spiritu sociolog hi...</td>\n",
       "      <td>1580510469 0896229939</td>\n",
       "      <td>0</td>\n",
       "      <td>1</td>\n",
       "      <td>4.0</td>\n",
       "      <td>0</td>\n",
       "      <td>0.0</td>\n",
       "      <td>2</td>\n",
       "    </tr>\n",
       "    <tr>\n",
       "      <th>B00008DDST</th>\n",
       "      <td>548550</td>\n",
       "      <td>B00008DDST</td>\n",
       "      <td>1, 2, 3 Soleils: Taha, Khaled, Faudel</td>\n",
       "      <td>DVD</td>\n",
       "      <td>featur store categori com today concert outlet...</td>\n",
       "      <td></td>\n",
       "      <td>0</td>\n",
       "      <td>3</td>\n",
       "      <td>5.0</td>\n",
       "      <td>0</td>\n",
       "      <td>0.0</td>\n",
       "      <td>0</td>\n",
       "    </tr>\n",
       "    <tr>\n",
       "      <th>B00005MHUG</th>\n",
       "      <td>548551</td>\n",
       "      <td>B00005MHUG</td>\n",
       "      <td>That Travelin' Two-Beat/Sings the Great Countr...</td>\n",
       "      <td>Music</td>\n",
       "      <td>classic broadway general pop vocalist miscella...</td>\n",
       "      <td>B00005O6KL B0000634HG</td>\n",
       "      <td>0</td>\n",
       "      <td>1</td>\n",
       "      <td>5.0</td>\n",
       "      <td>0</td>\n",
       "      <td>0.0</td>\n",
       "      <td>2</td>\n",
       "    </tr>\n",
       "  </tbody>\n",
       "</table>\n",
       "<p>548552 rows × 12 columns</p>\n",
       "</div>"
      ],
      "text/plain": [
       "                Id        ASIN  \\\n",
       "0771044445       0  0771044445   \n",
       "0827229534       1  0827229534   \n",
       "0738700797       2  0738700797   \n",
       "0486287785       3  0486287785   \n",
       "0842328327       4  0842328327   \n",
       "...            ...         ...   \n",
       "B000059TOC  548547  B000059TOC   \n",
       "B00006JBIX  548548  B00006JBIX   \n",
       "0879736836  548549  0879736836   \n",
       "B00008DDST  548550  B00008DDST   \n",
       "B00005MHUG  548551  B00005MHUG   \n",
       "\n",
       "                                                        title  group  \\\n",
       "0771044445                                                             \n",
       "0827229534            Patterns of Preaching: A Sermon Sampler   Book   \n",
       "0738700797                         Candlemas: Feast of Flames   Book   \n",
       "0486287785   World War II Allied Fighter Planes Trading Cards   Book   \n",
       "0842328327  Life Application Bible Commentary: 1 and 2 Tim...   Book   \n",
       "...                                                       ...    ...   \n",
       "B000059TOC                                        The Drifter    DVD   \n",
       "B00006JBIX                              The House Of Morecock    DVD   \n",
       "0879736836      Catholic Bioethics and the Gift of Human Life   Book   \n",
       "B00008DDST              1, 2, 3 Soleils: Taha, Khaled, Faudel    DVD   \n",
       "B00005MHUG  That Travelin' Two-Beat/Sings the Great Countr...  Music   \n",
       "\n",
       "                                                   categories  \\\n",
       "0771044445                                                      \n",
       "0827229534  religion spiritu clergi sermon christian preac...   \n",
       "0738700797  witchcraft wicca religion base spiritu earth s...   \n",
       "0486287785       garden hobbi general home subject craft book   \n",
       "0842328327  commentari refer religion discipleship applic ...   \n",
       "...                                                       ...   \n",
       "B000059TOC  store actor amazon deal genr ann timothi horro...   \n",
       "B00006JBIX  featur art store titl specialti intern distrib...   \n",
       "0879736836  scienc philosophi religion spiritu sociolog hi...   \n",
       "B00008DDST  featur store categori com today concert outlet...   \n",
       "B00005MHUG  classic broadway general pop vocalist miscella...   \n",
       "\n",
       "                                                  connections salesrank  \\\n",
       "0771044445                                                            0   \n",
       "0827229534  0804215715 156101074X 0687023955 0687074231 08...    396585   \n",
       "0738700797  0738700827 1567184960 1567182836 0738700525 07...    168596   \n",
       "0486287785                                                      1270652   \n",
       "0842328327        0842328130 0842330313 0842328610 0842328572    631289   \n",
       "...                                                       ...       ...   \n",
       "B000059TOC                                         630366704X         0   \n",
       "B00006JBIX                                         B00004WZQN         0   \n",
       "0879736836                              1580510469 0896229939         0   \n",
       "B00008DDST                                                            0   \n",
       "B00005MHUG                              B00005O6KL B0000634HG         0   \n",
       "\n",
       "           tot_reviews avg_rating degree_centrality clustering_coeff  \\\n",
       "0771044445           0        0.0                 0              0.0   \n",
       "0827229534           2        5.0                 0              0.0   \n",
       "0738700797          12        4.5                 0              0.0   \n",
       "0486287785           1        5.0                 0              0.0   \n",
       "0842328327           1        4.0                 0              0.0   \n",
       "...                ...        ...               ...              ...   \n",
       "B000059TOC           1        5.0                 0              0.0   \n",
       "B00006JBIX           8        3.0                 0              0.0   \n",
       "0879736836           1        4.0                 0              0.0   \n",
       "B00008DDST           3        5.0                 0              0.0   \n",
       "B00005MHUG           1        5.0                 0              0.0   \n",
       "\n",
       "           co_product_count  \n",
       "0771044445                0  \n",
       "0827229534                5  \n",
       "0738700797                5  \n",
       "0486287785                0  \n",
       "0842328327                4  \n",
       "...                     ...  \n",
       "B000059TOC                1  \n",
       "B00006JBIX                1  \n",
       "0879736836                2  \n",
       "B00008DDST                0  \n",
       "B00005MHUG                2  \n",
       "\n",
       "[548552 rows x 12 columns]"
      ]
     },
     "execution_count": 4,
     "metadata": {},
     "output_type": "execute_result"
    }
   ],
   "source": [
    "# Subset of music products in the dataset\n",
    "amazon_music = {}\n",
    "for key, value in amazon.items():\n",
    "  # Check for the case where value is \"Music\", and only then choose\n",
    "    amazon[key]['connections'] = ' '.join([connection for connection in value['connections'].split() if connection in amazon.keys()])\n",
    "\n",
    "    amazon[key]['co_product_count'] = len(amazon[key]['connections'].split())\n",
    "#     if(value['group'] == \"Music\"):\n",
    "#         amazon_music[key] = amazon[key]\n",
    "\n",
    "# # Join the connections\n",
    "# for key, value in amazon_music.items():\n",
    "#     amazon_music[key]['connections'] = ' '.join([connection for connection in value['connections'].split() if connection in amazon_music.keys()])\n",
    "#     amazon_music[key]['co_product_count'] = len(amazon_music[key]['connections'].split())\n",
    "\n",
    "# Convert to dataframe\n",
    "# amazon_music_df = pd.DataFrame.from_dict(amazon_music)\n",
    "# amazon_music_df = amazon_music_df.transpose()\n",
    "\n",
    "# amazon_music_df\n",
    "amazon_df=pd.DataFrame.from_dict(amazon).transpose()\n",
    "amazon_df\n"
   ]
  },
  {
   "cell_type": "markdown",
   "id": "3b164185",
   "metadata": {},
   "source": [
    "# Data Statistics and Feature Correlation"
   ]
  },
  {
   "cell_type": "code",
   "execution_count": 5,
   "id": "bd679d92",
   "metadata": {},
   "outputs": [
    {
     "data": {
      "text/plain": [
       "group\n",
       "                  5868\n",
       "Baby Product         1\n",
       "Book            393561\n",
       "CE                   4\n",
       "DVD              19828\n",
       "Music           103144\n",
       "Software             5\n",
       "Sports               1\n",
       "Toy                  8\n",
       "Video            26131\n",
       "Video Games          1\n",
       "Name: group, dtype: int64"
      ]
     },
     "execution_count": 5,
     "metadata": {},
     "output_type": "execute_result"
    }
   ],
   "source": [
    "# Group-wise count data frame\n",
    "count_df=amazon_df.groupby(['group'])['group'].count()\n",
    "count_df"
   ]
  },
  {
   "cell_type": "code",
   "execution_count": 6,
   "id": "6192b422",
   "metadata": {},
   "outputs": [
    {
     "name": "stdout",
     "output_type": "stream",
     "text": [
      "361567\n"
     ]
    }
   ],
   "source": [
    "# Number of products as co purchasing products\n",
    "\n",
    "print(amazon_df['connections'].replace('', np.nan).count())"
   ]
  },
  {
   "cell_type": "code",
   "execution_count": 7,
   "id": "d1f8ef17",
   "metadata": {},
   "outputs": [
    {
     "name": "stdout",
     "output_type": "stream",
     "text": [
      "2.2448901836106696\n"
     ]
    }
   ],
   "source": [
    "# Average count of co purchase products\n",
    "print(amazon_df['co_product_count'].mean())"
   ]
  },
  {
   "cell_type": "code",
   "execution_count": 8,
   "id": "7633d427",
   "metadata": {},
   "outputs": [
    {
     "name": "stdout",
     "output_type": "stream",
     "text": [
      "\n",
      "Sales Rank and Co Product Count Correlation:  0.4392765003033161\n"
     ]
    },
    {
     "data": {
      "image/png": "[encoded data removed]",
      "text/plain": [
       "<Figure size 432x288 with 1 Axes>"
      ]
     },
     "metadata": {
      "needs_background": "light"
     },
     "output_type": "display_data"
    }
   ],
   "source": [
    "import seaborn as sns\n",
    "amazon_df['normed_sales'] = 1 - (amazon_df['salesrank'] /amazon_df['salesrank'].abs().max())\n",
    "\n",
    "corr=amazon_df['co_product_count'].astype(float).corr(amazon_df['normed_sales'].astype(float))\n",
    "print(\"\\nSales Rank and Co Product Count Correlation: \",corr)\n",
    "from matplotlib import pyplot\n",
    "pyplot.scatter(amazon_df['normed_sales'], amazon_df['co_product_count'])\n",
    "pyplot.show()"
   ]
  },
  {
   "cell_type": "code",
   "execution_count": 9,
   "id": "c1b30c68",
   "metadata": {},
   "outputs": [
    {
     "name": "stdout",
     "output_type": "stream",
     "text": [
      "\n",
      "Average Rating and Co Product Count Correlation:  0.34933220676002275\n"
     ]
    },
    {
     "data": {
      "image/png": "[encoded data removed]",
      "text/plain": [
       "<Figure size 432x288 with 1 Axes>"
      ]
     },
     "metadata": {
      "needs_background": "light"
     },
     "output_type": "display_data"
    }
   ],
   "source": [
    "corr=amazon_df['co_product_count'].astype(float).corr(amazon_df['avg_rating'].astype(float))\n",
    "print(\"\\nAverage Rating and Co Product Count Correlation: \",corr)\n",
    "from matplotlib import pyplot\n",
    "pyplot.scatter(amazon_df['avg_rating'], amazon_df['co_product_count'])\n",
    "pyplot.show()"
   ]
  },
  {
   "cell_type": "code",
   "execution_count": 10,
   "id": "5139c583",
   "metadata": {},
   "outputs": [],
   "source": [
    "import networkx as nx\n",
    "import scipy\n",
    "\n",
    "\n",
    "# Dataset analysis pair wise analysis\n",
    "# Evaluating the similarity between two connected nodes\n",
    "connections_graph = nx.Graph()\n",
    "# Add the nodes\n",
    "for key, value in amazon.items():\n",
    "  connections_graph.add_node(key)\n",
    "  for i in value['connections'].split():\n",
    "    # Add the respective connected nodes\n",
    "    connections_graph.add_node(i.strip())\n",
    "    similarity = 0\n",
    "    try:\n",
    "      # Set of words in the node's categorical description\n",
    "      set_1 = set(amazon[key]['categories'].split())\n",
    "      # Set of words is node's connections' categorical description\n",
    "      set_2 = set(amazon[i]['categories'].split())\n",
    "    except KeyError:\n",
    "      continue\n",
    "    # Calculating intersection and union\n",
    "    union = set_1 & set_2\n",
    "    intersection = set_1 | set_2\n",
    "    if(len(union)) > 0:\n",
    "      # Similarity is the ratio of intersection with union. The more common items, the higher the intersection, and similarity\n",
    "      similarity = round(len(intersection)/len(union),2)\n",
    "    connections_graph.add_edge(key, i.strip(), weight=similarity)"
   ]
  },
  {
   "cell_type": "code",
   "execution_count": 11,
   "id": "b53375f7",
   "metadata": {},
   "outputs": [],
   "source": [
    "# !pip install 'scipy==1.8.0'\n",
    "# !pip install 'networkx==2.6'\n",
    "A = nx.adjacency_matrix(connections_graph)\n"
   ]
  },
  {
   "cell_type": "code",
   "execution_count": null,
   "id": "1f76505a",
   "metadata": {},
   "outputs": [],
   "source": []
  },
  {
   "cell_type": "code",
   "execution_count": null,
   "id": "9df75a43",
   "metadata": {},
   "outputs": [],
   "source": []
  },
  {
   "cell_type": "markdown",
   "id": "eb51c036",
   "metadata": {},
   "source": [
    "# Apply Item based Collaborative filtering"
   ]
  },
  {
   "cell_type": "code",
   "execution_count": 12,
   "id": "dcc80e07",
   "metadata": {},
   "outputs": [],
   "source": [
    "# Consider the first 10 most similar connections for each of the product based on \n",
    "# similarity rating that is computed above.\n",
    "\n",
    "mat = A.toarray()\n"
   ]
  },
  {
   "cell_type": "code",
   "execution_count": 20,
   "id": "ab98cef6",
   "metadata": {
    "scrolled": true
   },
   "outputs": [
    {
     "name": "stdout",
     "output_type": "stream",
     "text": [
      "477240\n"
     ]
    }
   ],
   "source": [
    "# That counts actual categories that are present in the connections list by using category similarity matching\n",
    "actual_count =0\n",
    "\n",
    "for i in range(len(mat)):\n",
    "    sorted_idx =mat[1].argsort()[::-1][:10]\n",
    "    for j in sorted_idx:\n",
    "        if amazon_df.iloc[j]['ASIN'] in amazon_df.iloc[i]['connections'].split():\n",
    "            actual_count+=1\n",
    "        \n",
    "        \n",
    "    \n",
    "\n",
    "print(actual_count)\n",
    "\n",
    "                                                "
   ]
  },
  {
   "cell_type": "code",
   "execution_count": 24,
   "id": "72a8fcc6",
   "metadata": {},
   "outputs": [
    {
     "data": {
      "text/plain": [
       "0.8699995624845046"
      ]
     },
     "execution_count": 24,
     "metadata": {},
     "output_type": "execute_result"
    }
   ],
   "source": [
    "# Compute accuracy\n",
    "\n",
    "accuracy = actual_count/len(amazon_df)\n",
    "accuracy"
   ]
  },
  {
   "cell_type": "code",
   "execution_count": 30,
   "id": "bef5f441",
   "metadata": {},
   "outputs": [
    {
     "data": {
      "text/html": [
       "<div>\n",
       "<style scoped>\n",
       "    .dataframe tbody tr th:only-of-type {\n",
       "        vertical-align: middle;\n",
       "    }\n",
       "\n",
       "    .dataframe tbody tr th {\n",
       "        vertical-align: top;\n",
       "    }\n",
       "\n",
       "    .dataframe thead th {\n",
       "        text-align: right;\n",
       "    }\n",
       "</style>\n",
       "<table border=\"1\" class=\"dataframe\">\n",
       "  <thead>\n",
       "    <tr style=\"text-align: right;\">\n",
       "      <th></th>\n",
       "      <th>Id</th>\n",
       "      <th>ASIN</th>\n",
       "      <th>title</th>\n",
       "      <th>group</th>\n",
       "      <th>categories</th>\n",
       "      <th>connections</th>\n",
       "      <th>salesrank</th>\n",
       "      <th>tot_reviews</th>\n",
       "      <th>avg_rating</th>\n",
       "      <th>degree_centrality</th>\n",
       "      <th>clustering_coeff</th>\n",
       "      <th>co_product_count</th>\n",
       "      <th>normed_sales</th>\n",
       "    </tr>\n",
       "  </thead>\n",
       "  <tbody>\n",
       "    <tr>\n",
       "      <th>B00000AU3R</th>\n",
       "      <td>7</td>\n",
       "      <td>B00000AU3R</td>\n",
       "      <td>Batik</td>\n",
       "      <td>Music</td>\n",
       "      <td>store import specialti modern postbebop genera...</td>\n",
       "      <td>B0000261KX B00006AM8D B000059OB9</td>\n",
       "      <td>5392</td>\n",
       "      <td>3</td>\n",
       "      <td>4.5</td>\n",
       "      <td>0</td>\n",
       "      <td>0.0</td>\n",
       "      <td>3</td>\n",
       "      <td>0.99858</td>\n",
       "    </tr>\n",
       "    <tr>\n",
       "      <th>B00004W1W1</th>\n",
       "      <td>14</td>\n",
       "      <td>B00004W1W1</td>\n",
       "      <td>Later...</td>\n",
       "      <td>Music</td>\n",
       "      <td>store specialti indi general jazz music style</td>\n",
       "      <td></td>\n",
       "      <td>390624</td>\n",
       "      <td>0</td>\n",
       "      <td>0.0</td>\n",
       "      <td>0</td>\n",
       "      <td>0.0</td>\n",
       "      <td>0</td>\n",
       "      <td>0.89716</td>\n",
       "    </tr>\n",
       "    <tr>\n",
       "      <th>B000007R0T</th>\n",
       "      <td>18</td>\n",
       "      <td>B000007R0T</td>\n",
       "      <td>Sol to Soul</td>\n",
       "      <td>Music</td>\n",
       "      <td>general jazz music style</td>\n",
       "      <td>B000059QC1 B00000JQIE B000002L7F</td>\n",
       "      <td>109301</td>\n",
       "      <td>15</td>\n",
       "      <td>5.0</td>\n",
       "      <td>0</td>\n",
       "      <td>0.0</td>\n",
       "      <td>3</td>\n",
       "      <td>0.971224</td>\n",
       "    </tr>\n",
       "    <tr>\n",
       "      <th>B00005NTSV</th>\n",
       "      <td>22</td>\n",
       "      <td>B00005NTSV</td>\n",
       "      <td>Come What May</td>\n",
       "      <td>Music</td>\n",
       "      <td>store broadway specialti indi general jazz pop...</td>\n",
       "      <td>B00000JCDS B000004CSZ B00005LLY3</td>\n",
       "      <td>83369</td>\n",
       "      <td>4</td>\n",
       "      <td>4.5</td>\n",
       "      <td>0</td>\n",
       "      <td>0.0</td>\n",
       "      <td>3</td>\n",
       "      <td>0.978051</td>\n",
       "    </tr>\n",
       "    <tr>\n",
       "      <th>B000002O8D</th>\n",
       "      <td>34</td>\n",
       "      <td>B000002O8D</td>\n",
       "      <td>Southern By the Grace of God: Lynyrd Skynyrd T...</td>\n",
       "      <td>Music</td>\n",
       "      <td>orient blue classic arena southern rock live m...</td>\n",
       "      <td>B0000061RJ B00005NWLO</td>\n",
       "      <td>89264</td>\n",
       "      <td>6</td>\n",
       "      <td>4.0</td>\n",
       "      <td>0</td>\n",
       "      <td>0.0</td>\n",
       "      <td>2</td>\n",
       "      <td>0.976499</td>\n",
       "    </tr>\n",
       "    <tr>\n",
       "      <th>...</th>\n",
       "      <td>...</td>\n",
       "      <td>...</td>\n",
       "      <td>...</td>\n",
       "      <td>...</td>\n",
       "      <td>...</td>\n",
       "      <td>...</td>\n",
       "      <td>...</td>\n",
       "      <td>...</td>\n",
       "      <td>...</td>\n",
       "      <td>...</td>\n",
       "      <td>...</td>\n",
       "      <td>...</td>\n",
       "      <td>...</td>\n",
       "    </tr>\n",
       "    <tr>\n",
       "      <th>B00005AUTO</th>\n",
       "      <td>548509</td>\n",
       "      <td>B00005AUTO</td>\n",
       "      <td>Door Door</td>\n",
       "      <td>Music</td>\n",
       "      <td>new punk wave post altern music rock style</td>\n",
       "      <td></td>\n",
       "      <td>-1</td>\n",
       "      <td>1</td>\n",
       "      <td>5.0</td>\n",
       "      <td>0</td>\n",
       "      <td>0.0</td>\n",
       "      <td>0</td>\n",
       "      <td>1.0</td>\n",
       "    </tr>\n",
       "    <tr>\n",
       "      <th>B00004XT2L</th>\n",
       "      <td>548536</td>\n",
       "      <td>B00004XT2L</td>\n",
       "      <td>Improvisations - Jazz In Paris</td>\n",
       "      <td>Music</td>\n",
       "      <td>general jazz swing music style</td>\n",
       "      <td>B000051TKB B0000046U5 B000000EC9 B00000616B B0...</td>\n",
       "      <td>0</td>\n",
       "      <td>3</td>\n",
       "      <td>5.0</td>\n",
       "      <td>0</td>\n",
       "      <td>0.0</td>\n",
       "      <td>5</td>\n",
       "      <td>1.0</td>\n",
       "    </tr>\n",
       "    <tr>\n",
       "      <th>B000065AHM</th>\n",
       "      <td>548544</td>\n",
       "      <td>B000065AHM</td>\n",
       "      <td>Lucky Man</td>\n",
       "      <td>Music</td>\n",
       "      <td>store blue specialti indi general contemporari...</td>\n",
       "      <td></td>\n",
       "      <td>0</td>\n",
       "      <td>1</td>\n",
       "      <td>5.0</td>\n",
       "      <td>0</td>\n",
       "      <td>0.0</td>\n",
       "      <td>0</td>\n",
       "      <td>1.0</td>\n",
       "    </tr>\n",
       "    <tr>\n",
       "      <th>B0000508ZN</th>\n",
       "      <td>548545</td>\n",
       "      <td>B0000508ZN</td>\n",
       "      <td>I Need Your Loving</td>\n",
       "      <td>Music</td>\n",
       "      <td>store tranc specialti indi general dj danc mus...</td>\n",
       "      <td></td>\n",
       "      <td>0</td>\n",
       "      <td>1</td>\n",
       "      <td>1.0</td>\n",
       "      <td>0</td>\n",
       "      <td>0.0</td>\n",
       "      <td>0</td>\n",
       "      <td>1.0</td>\n",
       "    </tr>\n",
       "    <tr>\n",
       "      <th>B00005MHUG</th>\n",
       "      <td>548551</td>\n",
       "      <td>B00005MHUG</td>\n",
       "      <td>That Travelin' Two-Beat/Sings the Great Countr...</td>\n",
       "      <td>Music</td>\n",
       "      <td>classic broadway general pop vocalist miscella...</td>\n",
       "      <td>B00005O6KL B0000634HG</td>\n",
       "      <td>0</td>\n",
       "      <td>1</td>\n",
       "      <td>5.0</td>\n",
       "      <td>0</td>\n",
       "      <td>0.0</td>\n",
       "      <td>2</td>\n",
       "      <td>1.0</td>\n",
       "    </tr>\n",
       "  </tbody>\n",
       "</table>\n",
       "<p>103144 rows × 13 columns</p>\n",
       "</div>"
      ],
      "text/plain": [
       "                Id        ASIN  \\\n",
       "B00000AU3R       7  B00000AU3R   \n",
       "B00004W1W1      14  B00004W1W1   \n",
       "B000007R0T      18  B000007R0T   \n",
       "B00005NTSV      22  B00005NTSV   \n",
       "B000002O8D      34  B000002O8D   \n",
       "...            ...         ...   \n",
       "B00005AUTO  548509  B00005AUTO   \n",
       "B00004XT2L  548536  B00004XT2L   \n",
       "B000065AHM  548544  B000065AHM   \n",
       "B0000508ZN  548545  B0000508ZN   \n",
       "B00005MHUG  548551  B00005MHUG   \n",
       "\n",
       "                                                        title  group  \\\n",
       "B00000AU3R                                              Batik  Music   \n",
       "B00004W1W1                                           Later...  Music   \n",
       "B000007R0T                                        Sol to Soul  Music   \n",
       "B00005NTSV                                      Come What May  Music   \n",
       "B000002O8D  Southern By the Grace of God: Lynyrd Skynyrd T...  Music   \n",
       "...                                                       ...    ...   \n",
       "B00005AUTO                                          Door Door  Music   \n",
       "B00004XT2L                     Improvisations - Jazz In Paris  Music   \n",
       "B000065AHM                                          Lucky Man  Music   \n",
       "B0000508ZN                                 I Need Your Loving  Music   \n",
       "B00005MHUG  That Travelin' Two-Beat/Sings the Great Countr...  Music   \n",
       "\n",
       "                                                   categories  \\\n",
       "B00000AU3R  store import specialti modern postbebop genera...   \n",
       "B00004W1W1      store specialti indi general jazz music style   \n",
       "B000007R0T                           general jazz music style   \n",
       "B00005NTSV  store broadway specialti indi general jazz pop...   \n",
       "B000002O8D  orient blue classic arena southern rock live m...   \n",
       "...                                                       ...   \n",
       "B00005AUTO         new punk wave post altern music rock style   \n",
       "B00004XT2L                     general jazz swing music style   \n",
       "B000065AHM  store blue specialti indi general contemporari...   \n",
       "B0000508ZN  store tranc specialti indi general dj danc mus...   \n",
       "B00005MHUG  classic broadway general pop vocalist miscella...   \n",
       "\n",
       "                                                  connections salesrank  \\\n",
       "B00000AU3R                   B0000261KX B00006AM8D B000059OB9      5392   \n",
       "B00004W1W1                                                       390624   \n",
       "B000007R0T                   B000059QC1 B00000JQIE B000002L7F    109301   \n",
       "B00005NTSV                   B00000JCDS B000004CSZ B00005LLY3     83369   \n",
       "B000002O8D                              B0000061RJ B00005NWLO     89264   \n",
       "...                                                       ...       ...   \n",
       "B00005AUTO                                                           -1   \n",
       "B00004XT2L  B000051TKB B0000046U5 B000000EC9 B00000616B B0...         0   \n",
       "B000065AHM                                                            0   \n",
       "B0000508ZN                                                            0   \n",
       "B00005MHUG                              B00005O6KL B0000634HG         0   \n",
       "\n",
       "           tot_reviews avg_rating degree_centrality clustering_coeff  \\\n",
       "B00000AU3R           3        4.5                 0              0.0   \n",
       "B00004W1W1           0        0.0                 0              0.0   \n",
       "B000007R0T          15        5.0                 0              0.0   \n",
       "B00005NTSV           4        4.5                 0              0.0   \n",
       "B000002O8D           6        4.0                 0              0.0   \n",
       "...                ...        ...               ...              ...   \n",
       "B00005AUTO           1        5.0                 0              0.0   \n",
       "B00004XT2L           3        5.0                 0              0.0   \n",
       "B000065AHM           1        5.0                 0              0.0   \n",
       "B0000508ZN           1        1.0                 0              0.0   \n",
       "B00005MHUG           1        5.0                 0              0.0   \n",
       "\n",
       "           co_product_count normed_sales  \n",
       "B00000AU3R                3      0.99858  \n",
       "B00004W1W1                0      0.89716  \n",
       "B000007R0T                3     0.971224  \n",
       "B00005NTSV                3     0.978051  \n",
       "B000002O8D                2     0.976499  \n",
       "...                     ...          ...  \n",
       "B00005AUTO                0          1.0  \n",
       "B00004XT2L                5          1.0  \n",
       "B000065AHM                0          1.0  \n",
       "B0000508ZN                0          1.0  \n",
       "B00005MHUG                2          1.0  \n",
       "\n",
       "[103144 rows x 13 columns]"
      ]
     },
     "execution_count": 30,
     "metadata": {},
     "output_type": "execute_result"
    }
   ],
   "source": [
    "# To increase the accuracy we can perform group collaborative filtering \n",
    "# we will now apply group based collaborative filtering for each of the above groups\n",
    "\n",
    "# Considering amazon music\n",
    "amazon_music_df = amazon_df[amazon_df['group'] == 'Music']\n",
    "amazon_music_df"
   ]
  },
  {
   "cell_type": "code",
   "execution_count": 31,
   "id": "e7e2da28",
   "metadata": {},
   "outputs": [],
   "source": [
    "# Compute the prediction for just the amazon music \n",
    "connections_graph = nx.Graph()\n",
    "# Add the nodes\n",
    "for key, value in amazon_music.items():\n",
    "  connections_graph.add_node(key)\n",
    "  for i in value['connections'].split():\n",
    "    # Add the respective connected nodes\n",
    "    connections_graph.add_node(i.strip())\n",
    "    similarity = 0\n",
    "    try:\n",
    "      # Set of words in the node's categorical description\n",
    "      set_1 = set(amazon_music[key]['categories'].split())\n",
    "      # Set of words is node's connections' categorical description\n",
    "      set_2 = set(amazon_music[i]['categories'].split())\n",
    "    except KeyError:\n",
    "      continue\n",
    "    # Calculating intersection and union\n",
    "    union = set_1 & set_2\n",
    "    intersection = set_1 | set_2\n",
    "    if(len(union)) > 0:\n",
    "      # Similarity is the ratio of intersection with union. The more common items, the higher the intersection, and similarity\n",
    "      similarity = round(len(intersection)/len(union),2)\n",
    "    connections_graph.add_edge(key, i.strip(), weight=similarity)\n",
    "\n",
    "A = nx.adjacency_matrix(connections_graph)\n",
    "mat = A.toarray()\n",
    "\n"
   ]
  },
  {
   "cell_type": "code",
   "execution_count": 33,
   "id": "c8415101",
   "metadata": {},
   "outputs": [
    {
     "name": "stdout",
     "output_type": "stream",
     "text": [
      "94091\n"
     ]
    }
   ],
   "source": [
    "actual_count =0\n",
    "\n",
    "for i in range(len(mat)):\n",
    "    sorted_idx =mat[1].argsort()[::-1][:10]\n",
    "    for j in sorted_idx:\n",
    "        if amazon_music_df.iloc[j]['ASIN'] in amazon_music_df.iloc[i]['connections'].split():\n",
    "            actual_count+=1\n",
    "        \n",
    "print(actual_count)"
   ]
  },
  {
   "cell_type": "code",
   "execution_count": 35,
   "id": "7cd017f7",
   "metadata": {},
   "outputs": [
    {
     "data": {
      "text/plain": [
       "0.9122295043822229"
      ]
     },
     "execution_count": 35,
     "metadata": {},
     "output_type": "execute_result"
    }
   ],
   "source": [
    "# Compute accuracy\n",
    "\n",
    "accuracy = actual_count/len(amazon_music_df)\n",
    "accuracy"
   ]
  },
  {
   "cell_type": "code",
   "execution_count": 37,
   "id": "6e7cb516",
   "metadata": {},
   "outputs": [],
   "source": [
    "# We can now modify the above similarity function by adding a union and intersection of group within the jaccard similarity measure\n",
    "# The code after modifications becomes\n",
    "\n",
    "\n",
    "connections_graph = nx.Graph()\n",
    "# Add the nodes\n",
    "for key, value in amazon.items():\n",
    "  connections_graph.add_node(key)\n",
    "  for i in value['connections'].split():\n",
    "    # Add the respective connected nodes\n",
    "    connections_graph.add_node(i.strip())\n",
    "    similarity = 0\n",
    "    try:\n",
    "      # Set of words in the node's categorical description\n",
    "      set_1 = set(amazon[key]['categories'].split())\n",
    "      # Set of words is node's connections' categorical description\n",
    "      set_2 = set(amazon[i]['categories'].split())\n",
    "        \n",
    "      # this set will just have the group name\n",
    "      set_3 = set(amazon[key]['group'])\n",
    "    except KeyError:\n",
    "      continue\n",
    "    # Calculating intersection and union\n",
    "    union = set_1 & set_2 & set_3\n",
    "    intersection = set_1 | set_2 | set_3\n",
    "    if(len(union)) > 0:\n",
    "      # Similarity is the ratio of intersection with union. The more common items, the higher the intersection, and similarity\n",
    "      similarity = round(len(intersection)/len(union),2)\n",
    "    connections_graph.add_edge(key, i.strip(), weight=similarity)\n",
    "\n",
    "A = nx.adjacency_matrix(connections_graph)\n",
    "mat = A.toarray()\n"
   ]
  },
  {
   "cell_type": "code",
   "execution_count": 38,
   "id": "a1cdda3f",
   "metadata": {},
   "outputs": [
    {
     "name": "stdout",
     "output_type": "stream",
     "text": [
      "486784\n"
     ]
    }
   ],
   "source": [
    "# After this modifications let us check the actual prediction count of every group\n",
    "\n",
    "actual_count =0\n",
    "\n",
    "for i in range(len(mat)):\n",
    "    sorted_idx =mat[1].argsort()[::-1][:10]\n",
    "    for j in sorted_idx:\n",
    "        if amazon_df.iloc[j]['ASIN'] in amazon_df.iloc[i]['connections'].split():\n",
    "            actual_count+=1\n",
    "        \n",
    "        \n",
    "    \n",
    "\n",
    "print(actual_count)"
   ]
  },
  {
   "cell_type": "code",
   "execution_count": 39,
   "id": "aac303e1",
   "metadata": {},
   "outputs": [
    {
     "data": {
      "text/plain": [
       "0.8873980953492103"
      ]
     },
     "execution_count": 39,
     "metadata": {},
     "output_type": "execute_result"
    }
   ],
   "source": [
    "accuracy = actual_count/len(amazon_df)\n",
    "accuracy"
   ]
  },
  {
   "cell_type": "code",
   "execution_count": 40,
   "id": "4e0a66d4",
   "metadata": {},
   "outputs": [],
   "source": [
    "# Now we can also make use of the title feature to perform similarity\n"
   ]
  },
  {
   "cell_type": "markdown",
   "id": "d83959b1",
   "metadata": {},
   "source": [
    "# Similarity on title feature using TF-IDF Vector"
   ]
  },
  {
   "cell_type": "code",
   "execution_count": 43,
   "id": "cb63d95e",
   "metadata": {},
   "outputs": [
    {
     "name": "stdout",
     "output_type": "stream",
     "text": [
      "  (1, 83432)\t0.5166241892286666\n",
      "  (1, 85712)\t0.5497582881206091\n",
      "  (1, 75373)\t0.47792022573097376\n",
      "  (1, 68187)\t0.1409515661374886\n",
      "  (1, 71339)\t0.4273057284745481\n",
      "  (2, 36354)\t0.5127706103384814\n",
      "  (2, 35287)\t0.4830846826817856\n",
      "  (2, 16681)\t0.6976623609032268\n",
      "  (2, 68187)\t0.1302410100938849\n",
      "  (3, 17110)\t0.33503870357088716\n",
      "  (3, 97273)\t0.3754946676011876\n",
      "  (3, 73649)\t0.44758982206663006\n",
      "  (3, 35819)\t0.4013881168569187\n",
      "  (3, 5279)\t0.44067700273183313\n",
      "  (3, 47098)\t0.28000340820283487\n",
      "  (3, 102940)\t0.25585123990589753\n",
      "  (3, 105054)\t0.21736091239625213\n",
      "  (4, 96439)\t0.5111189755577239\n",
      "  (4, 96280)\t0.4937192521960117\n",
      "  (4, 6121)\t0.26766885700184423\n",
      "  (4, 21293)\t0.3654445795617071\n",
      "  (4, 12031)\t0.2861055746235847\n",
      "  (4, 7133)\t0.3879990129432947\n",
      "  (4, 55652)\t0.2395886082860885\n",
      "  (5, 33964)\t0.42342195560163814\n",
      "  :\t:\n",
      "  (548548, 63567)\t0.8864312077731291\n",
      "  (548548, 45949)\t0.41092803768657443\n",
      "  (548548, 95437)\t0.13414164403809647\n",
      "  (548548, 68187)\t0.16548075738190612\n",
      "  (548549, 12336)\t0.5740631331174508\n",
      "  (548549, 17730)\t0.44784871515384456\n",
      "  (548549, 39943)\t0.432393752850513\n",
      "  (548549, 46232)\t0.3759223095737809\n",
      "  (548549, 95437)\t0.11852210782078829\n",
      "  (548549, 6121)\t0.15890641254552243\n",
      "  (548549, 55652)\t0.2844721396128234\n",
      "  (548549, 68187)\t0.14621207537246092\n",
      "  (548550, 88935)\t0.5076573223973101\n",
      "  (548550, 35162)\t0.5076573223973101\n",
      "  (548550, 52284)\t0.4878863611059585\n",
      "  (548550, 93790)\t0.4965228944163333\n",
      "  (548551, 97716)\t0.521348449974999\n",
      "  (548551, 98982)\t0.3025857334454634\n",
      "  (548551, 10990)\t0.3874250201049477\n",
      "  (548551, 87555)\t0.3831976648904534\n",
      "  (548551, 45081)\t0.29011734370341735\n",
      "  (548551, 23307)\t0.31224740513134686\n",
      "  (548551, 41461)\t0.26723430243684465\n",
      "  (548551, 95437)\t0.09508633502299585\n",
      "  (548551, 95421)\t0.2785264303568388\n"
     ]
    }
   ],
   "source": [
    "from sklearn.feature_extraction.text import TfidfVectorizer\n",
    "v = TfidfVectorizer()\n",
    "x = v.fit_transform(amazon_df['title'])\n",
    "print(x)"
   ]
  },
  {
   "cell_type": "code",
   "execution_count": 1,
   "id": "7144fb55",
   "metadata": {},
   "outputs": [],
   "source": [
    "# Lets generate the cosine similarity of the title\n",
    "from sklearn.metrics.pairwise import cosine_similarity\n",
    "\n",
    "cosine_sim = cosine_similarity(x, x)\n"
   ]
  },
  {
   "cell_type": "code",
   "execution_count": 2,
   "id": "a7d7463b",
   "metadata": {},
   "outputs": [],
   "source": [
    "def get_krecommendations_isbns(isbn,k, cosine_sim,indices):\n",
    "    # Get the index of the movie that matches the title\n",
    "    idx = indices[isbn]\n",
    "    # Get the pairwsie similarity scores\n",
    "    sim_scores = list(enumerate(cosine_sim[idx]))\n",
    "    # Sort the movies based on the similarity scores\n",
    "    sim_scores = sorted(sim_scores, key=lambda x: x[1], reverse=True)\n",
    "    # Get the scores for k most similar movies\n",
    "    sim_scores = sim_scores[1:k]\n",
    "    # Get the movie indices\n",
    "    movie_indices = [i[0] for i in sim_scores]\n",
    "    # Return the top 10 most similar movies\n",
    "    return amazon_df['connections'].iloc[movie_indices]\n"
   ]
  },
  {
   "cell_type": "code",
   "execution_count": 3,
   "id": "f379b8a8",
   "metadata": {},
   "outputs": [
    {
     "name": "stdout",
     "output_type": "stream",
     "text": [
      "432613\n"
     ]
    }
   ],
   "source": [
    "# Get top 10 movies for each matching the title \n",
    "# Compute correctly matched isbn connections\n",
    "\n",
    "actual_count =0\n",
    "\n",
    "for i in amazon_df['ISBN']:\n",
    "    for j in get_krecommendations_isbns(i,10,cosine_sim,indices):\n",
    "        if j in amazon_df.iloc[i]['connections'].split():\n",
    "            actual_count+=1\n",
    "        \n",
    "        \n",
    "    \n",
    "\n",
    "print(actual_count)"
   ]
  },
  {
   "cell_type": "code",
   "execution_count": 5,
   "id": "4e0de772",
   "metadata": {},
   "outputs": [
    {
     "data": {
      "text/plain": [
       "0.7886453791071767"
      ]
     },
     "execution_count": 5,
     "metadata": {},
     "output_type": "execute_result"
    }
   ],
   "source": [
    "accuracy = actual_count/len(amazon_df)\n",
    "accuracy"
   ]
  },
  {
   "cell_type": "code",
   "execution_count": 6,
   "id": "33adafcf",
   "metadata": {},
   "outputs": [],
   "source": [
    "# Hence from this we can conclude that the accuracy of combination of group and category similarity matching is much higher than\n",
    "# that of the title similaity matching"
   ]
  },
  {
   "cell_type": "code",
   "execution_count": 7,
   "id": "be4a53e0",
   "metadata": {},
   "outputs": [],
   "source": [
    "# Lets combine using ensemble method both the methods "
   ]
  },
  {
   "cell_type": "markdown",
   "id": "7a3862eb",
   "metadata": {},
   "source": [
    "# Ensemble method using max voting"
   ]
  },
  {
   "cell_type": "code",
   "execution_count": 9,
   "id": "7269e729",
   "metadata": {},
   "outputs": [
    {
     "name": "stdout",
     "output_type": "stream",
     "text": [
      "519186\n"
     ]
    }
   ],
   "source": [
    "# here, I will be checking a particular isbn with both group + category and title similarity\n",
    "# If there are no connections using group + category then I will check for title similarity\n",
    "# The combine code becomes\n",
    "\n",
    "actual_count =0\n",
    "\n",
    "for i in range(len(mat)):\n",
    "    sorted_idx =mat[1].argsort()[::-1][:10]\n",
    "    for j in sorted_idx:\n",
    "        if amazon_df.iloc[j]['ASIN'] in amazon_df.iloc[i]['connections'].split():\n",
    "            actual_count+=1\n",
    "        else:\n",
    "            for j in get_krecommendations_isbns(i,10,cosine_sim,indices):\n",
    "                if j in amazon_df.iloc[i]['connections'].split():\n",
    "                    actual_count+=1\n",
    "print(actual_count)"
   ]
  },
  {
   "cell_type": "code",
   "execution_count": 12,
   "id": "f48b9846",
   "metadata": {},
   "outputs": [
    {
     "data": {
      "text/plain": [
       "0.9464663331826335"
      ]
     },
     "execution_count": 12,
     "metadata": {},
     "output_type": "execute_result"
    }
   ],
   "source": [
    "accuracy = actual_count/len(amazon_df)\n",
    "accuracy"
   ]
  },
  {
   "cell_type": "code",
   "execution_count": null,
   "id": "03ead21c",
   "metadata": {},
   "outputs": [],
   "source": []
  }
 ],
 "metadata": {
  "kernelspec": {
   "display_name": "Python 3 (ipykernel)",
   "language": "python",
   "name": "python3"
  },
  "language_info": {
   "codemirror_mode": {
    "name": "ipython",
    "version": 3
   },
   "file_extension": ".py",
   "mimetype": "text/x-python",
   "name": "python",
   "nbconvert_exporter": "python",
   "pygments_lexer": "ipython3",
   "version": "3.9.12"
  }
 },
 "nbformat": 4,
 "nbformat_minor": 5
}
